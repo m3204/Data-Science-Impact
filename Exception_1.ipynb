{
 "cells": [
  {
   "cell_type": "markdown",
   "id": "2a0e0849-5872-4c5d-9bc2-58b8f23b0fe3",
   "metadata": {},
   "source": [
    "Q1. What is an Exception in python? Write the difference between Exceptions and syntex errors?"
   ]
  },
  {
   "cell_type": "markdown",
   "id": "eb932458-2426-4809-9de5-a37cc6f58176",
   "metadata": {},
   "source": [
    "exception occures during the execution of the programe. the main diff between exception and syntex error is that syntex error can be detected when writing the script or starting the execution. and exception will occure when the programe has been already been executed."
   ]
  },
  {
   "cell_type": "markdown",
   "id": "4cacb323-7044-4eb0-8606-a99af94c9cc8",
   "metadata": {},
   "source": [
    "Q2. What happens when an exception is not handled? Explain with an example."
   ]
  },
  {
   "cell_type": "markdown",
   "id": "ad965197-2ff4-41d4-abb9-5f2a580992e1",
   "metadata": {},
   "source": [
    "if the exception has not been handled than it will throw an error and stop the execution."
   ]
  },
  {
   "cell_type": "code",
   "execution_count": 1,
   "id": "bce1475e-08c7-4f4d-a030-236ffe7a3dc3",
   "metadata": {},
   "outputs": [
    {
     "ename": "NameError",
     "evalue": "name 'lst2' is not defined",
     "output_type": "error",
     "traceback": [
      "\u001b[0;31m---------------------------------------------------------------------------\u001b[0m",
      "\u001b[0;31mNameError\u001b[0m                                 Traceback (most recent call last)",
      "Cell \u001b[0;32mIn[1], line 2\u001b[0m\n\u001b[1;32m      1\u001b[0m lst \u001b[38;5;241m=\u001b[39m [\u001b[38;5;124m'\u001b[39m\u001b[38;5;124m89340\u001b[39m\u001b[38;5;124m'\u001b[39m, \u001b[38;5;124m'\u001b[39m\u001b[38;5;124moeuir\u001b[39m\u001b[38;5;124m'\u001b[39m, [\u001b[38;5;124m'\u001b[39m\u001b[38;5;124muirur\u001b[39m\u001b[38;5;124m'\u001b[39m]]\n\u001b[0;32m----> 2\u001b[0m \u001b[38;5;28mprint\u001b[39m(\u001b[43mlst2\u001b[49m)\n",
      "\u001b[0;31mNameError\u001b[0m: name 'lst2' is not defined"
     ]
    }
   ],
   "source": [
    "# exception is not handled\n",
    "lst = ['89340', 'oeuir', ['uirur']]\n",
    "print(lst2)"
   ]
  },
  {
   "cell_type": "code",
   "execution_count": 2,
   "id": "743b035b-878a-47c1-94ee-e6a2958508da",
   "metadata": {},
   "outputs": [],
   "source": [
    "# exception has been handled.\n",
    "try:\n",
    "    print(lst2)\n",
    "except:\n",
    "    pass"
   ]
  },
  {
   "cell_type": "markdown",
   "id": "65186801-fe23-4ebb-b8d5-7c5c3d9774d4",
   "metadata": {},
   "source": [
    "Q3. Which Python statements are used to catch and handle exceptions? Explain with an example"
   ]
  },
  {
   "cell_type": "markdown",
   "id": "1edf5969-165e-4b0c-b0f4-86693131b41d",
   "metadata": {},
   "source": [
    "try and except statements used to handle exception in python."
   ]
  },
  {
   "cell_type": "markdown",
   "id": "2211e6e4-c440-4a6f-bf3a-b3c396b2ead2",
   "metadata": {},
   "source": [
    "Q4. Explain with an example:\n",
    "\n",
    "a. try and else\n",
    "\n",
    "b. finally\n",
    "\n",
    "c. raise"
   ]
  },
  {
   "cell_type": "code",
   "execution_count": 4,
   "id": "bc8fce26-883d-4258-8f48-20cbe568b46e",
   "metadata": {},
   "outputs": [
    {
     "name": "stdout",
     "output_type": "stream",
     "text": [
      "name 'ldsfj' is not defined\n"
     ]
    }
   ],
   "source": [
    "# a.\n",
    "try:\n",
    "    print(ldsfj)\n",
    "except Exception as e:\n",
    "    print(e)\n",
    "    "
   ]
  },
  {
   "cell_type": "code",
   "execution_count": 7,
   "id": "bbeea0dc-bf9f-4f76-8f1e-9beed297d146",
   "metadata": {},
   "outputs": [
    {
     "name": "stdout",
     "output_type": "stream",
     "text": [
      "NameError\n",
      "Name Error Has occurred\n"
     ]
    }
   ],
   "source": [
    "# b. \n",
    "try:\n",
    "    print(adk)\n",
    "except NameError:\n",
    "    print('NameError')\n",
    "finally:\n",
    "    print('Name Error Has occurred')"
   ]
  },
  {
   "cell_type": "code",
   "execution_count": 15,
   "id": "f3043983-6936-4efd-84ec-25da6bae6318",
   "metadata": {},
   "outputs": [
    {
     "name": "stdout",
     "output_type": "stream",
     "text": [
      "e not defined\n"
     ]
    }
   ],
   "source": [
    "# c.\n",
    "def nothing(e):\n",
    "    if e:\n",
    "        raise NameError('e not defined')\n",
    "    else:\n",
    "        print('e is defined')\n",
    "        \n",
    "        \n",
    "\n",
    "try:\n",
    "    nothing('True')\n",
    "except NameError as e:\n",
    "    print(e)"
   ]
  },
  {
   "cell_type": "markdown",
   "id": "fe878869-7d87-4f2b-9da3-b12b6f9ab716",
   "metadata": {},
   "source": [
    "Q5. What are Custom Exceptions in python? Why do we need Custom Exceptions? Explain with an example."
   ]
  },
  {
   "cell_type": "code",
   "execution_count": 25,
   "id": "ab10ccaa-d620-4995-bfeb-d936143602cf",
   "metadata": {},
   "outputs": [
    {
     "name": "stdout",
     "output_type": "stream",
     "text": [
      "Variable e is not defined\n"
     ]
    }
   ],
   "source": [
    "# Custom Error.\n",
    "class VariableError(Exception):\n",
    "    def __init__(self, variable):\n",
    "        self.variable = variable\n",
    "\n",
    "    def __str__(self):\n",
    "        return f\"Variable {self.variable} is not defined\"\n",
    "\n",
    "\n",
    "def nothing(e):\n",
    "    if e:\n",
    "        raise VariableError('e')\n",
    "    else:\n",
    "        print('e is defined')\n",
    "        \n",
    "        \n",
    "\n",
    "try:\n",
    "    nothing('True')\n",
    "except VariableError as e:\n",
    "    print(e)"
   ]
  },
  {
   "cell_type": "markdown",
   "id": "5e4f6bd7-2b41-4603-a491-8d8bba3d97cc",
   "metadata": {},
   "source": [
    "Q6. Create a custom exception class. Use this class to handle an exception."
   ]
  },
  {
   "cell_type": "code",
   "execution_count": 26,
   "id": "de2316da-8f36-4a35-b11d-bca16a4ebb43",
   "metadata": {},
   "outputs": [
    {
     "name": "stdout",
     "output_type": "stream",
     "text": [
      "Variable e is not defined\n"
     ]
    }
   ],
   "source": [
    "# Custom Error.\n",
    "class VariableError(Exception):\n",
    "    def __init__(self, variable):\n",
    "        self.variable = variable\n",
    "\n",
    "    def __str__(self):\n",
    "        return f\"Variable {self.variable} is not defined\"\n",
    "\n",
    "\n",
    "def nothing(e):\n",
    "    if e:\n",
    "        raise VariableError('e')\n",
    "    else:\n",
    "        print('e is defined')\n",
    "        \n",
    "        \n",
    "\n",
    "try:\n",
    "    nothing('True')\n",
    "except VariableError as e:\n",
    "    print(e)"
   ]
  },
  {
   "cell_type": "code",
   "execution_count": null,
   "id": "4dada1cf-5f1f-4cf8-b7f1-8026900cdf73",
   "metadata": {},
   "outputs": [],
   "source": []
  }
 ],
 "metadata": {
  "kernelspec": {
   "display_name": "Python 3 (ipykernel)",
   "language": "python",
   "name": "python3"
  },
  "language_info": {
   "codemirror_mode": {
    "name": "ipython",
    "version": 3
   },
   "file_extension": ".py",
   "mimetype": "text/x-python",
   "name": "python",
   "nbconvert_exporter": "python",
   "pygments_lexer": "ipython3",
   "version": "3.10.8"
  }
 },
 "nbformat": 4,
 "nbformat_minor": 5
}
