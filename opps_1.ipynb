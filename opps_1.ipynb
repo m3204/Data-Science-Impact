{
 "cells": [
  {
   "cell_type": "markdown",
   "id": "ee3844f5-1188-45ad-bde3-4f95a1b63d1a",
   "metadata": {},
   "source": [
    "Q1. Explain Class and Object with respect to Object-Oriented Programming. Give a suitable example."
   ]
  },
  {
   "cell_type": "markdown",
   "id": "3c3bfd4b-75a8-49db-a061-c4d0ed79c89e",
   "metadata": {},
   "source": [
    "Class is Template of code that can be reused. in which there's certain functionality defined.  you can acces a class by simply just creating a object of it. once you've created object, this object will now have all the attributes and methods or every functioanlity of that class. \n",
    "\n",
    "and a object is instance of class who posses a attirbutes and methods of class. and can access functioanlity and data of that class."
   ]
  },
  {
   "cell_type": "code",
   "execution_count": 7,
   "id": "8ddb4c68-f83a-4c9b-9c55-2954a277ae5c",
   "metadata": {},
   "outputs": [],
   "source": [
    "class Example :\n",
    "    def __init__(self):\n",
    "        print('This __init__ is a constructor and it will be executed whenever the object of this class will get created')\n",
    "        \n",
    "    def nothing_to_write(self):\n",
    "        print('This self here is like a arrow in the class, you get the direction')\n",
    "    "
   ]
  },
  {
   "cell_type": "code",
   "execution_count": 8,
   "id": "662d1550-2d7e-4344-8d88-97bbe4f38395",
   "metadata": {},
   "outputs": [
    {
     "name": "stdout",
     "output_type": "stream",
     "text": [
      "This __init__ is a constructor and it will be executed whenever the object of this class will get created\n"
     ]
    }
   ],
   "source": [
    "obj = Example()"
   ]
  },
  {
   "cell_type": "code",
   "execution_count": 9,
   "id": "8195e74c-950a-476c-ae6c-c5f6a443d0da",
   "metadata": {},
   "outputs": [
    {
     "name": "stdout",
     "output_type": "stream",
     "text": [
      "This self here is like a arrow in the class, you get the direction\n"
     ]
    }
   ],
   "source": [
    "obj.nothing_to_write()"
   ]
  },
  {
   "cell_type": "markdown",
   "id": "595b149c-7fb0-43d1-bce3-f9e7f25e5b2c",
   "metadata": {},
   "source": [
    "Q2. Name the four pillars of OOPs."
   ]
  },
  {
   "cell_type": "markdown",
   "id": "d2452ea7-101c-46a2-a4dc-68c1ead09af0",
   "metadata": {},
   "source": [
    "1. Encapsulation (Hiding Attributes and methods)\n",
    "2. Polymorphism (Multiple roles)\n",
    "3. Abstarction( simplfying )\n",
    "4. Inheritance (Inherit a property)"
   ]
  },
  {
   "cell_type": "markdown",
   "id": "ab618905-958e-4fb4-a48c-d1dd7be7024d",
   "metadata": {},
   "source": [
    "###########################"
   ]
  },
  {
   "cell_type": "markdown",
   "id": "243b6edc-e87d-4c3a-b8e0-44ec2656cbc0",
   "metadata": {},
   "source": [
    "Q3. Explain why the __init__() function is used. Give a suitable example."
   ]
  },
  {
   "cell_type": "markdown",
   "id": "518edc60-a7d2-4650-bf21-45faf1069a8d",
   "metadata": {},
   "source": [
    "The reseaon to create  __init__ function is initialize a class and it's default values and attributes."
   ]
  },
  {
   "cell_type": "code",
   "execution_count": 19,
   "id": "be7b6026-719f-44c7-b19f-8ca3f155fb6a",
   "metadata": {},
   "outputs": [],
   "source": [
    "class Init():\n",
    "    def __init__(self, name):\n",
    "        self.name = name \n",
    "        print('This will get printed when object created.... ')\n",
    "        print(f'This is contructor...and it will print name : {self.name}')"
   ]
  },
  {
   "cell_type": "code",
   "execution_count": 20,
   "id": "568664c7-4afd-465b-83a9-67e66112188f",
   "metadata": {},
   "outputs": [
    {
     "name": "stdout",
     "output_type": "stream",
     "text": [
      "This will get printed when object created.... \n",
      "This is contructor...and it will print name : Marmik\n"
     ]
    }
   ],
   "source": [
    "obj = Init('Marmik')"
   ]
  },
  {
   "cell_type": "markdown",
   "id": "c087b762-09b7-46a1-8fcd-0c0a5fd72cdf",
   "metadata": {},
   "source": [
    "#######################"
   ]
  },
  {
   "cell_type": "markdown",
   "id": "0fd9a062-c312-4e80-8ad7-421b10d06def",
   "metadata": {},
   "source": [
    "Q4. Why self is used in OOPs?"
   ]
  },
  {
   "cell_type": "markdown",
   "id": "91698939-adac-496f-8283-f2b3f5675c75",
   "metadata": {},
   "source": [
    "self is convention used in class to refer to object to itself. with using self we can access attributes and methods."
   ]
  },
  {
   "cell_type": "markdown",
   "id": "7c65f2e2-3ad4-4de0-abcc-0c222efce3b5",
   "metadata": {},
   "source": [
    "Q5. What is inheritance? Give an example for each type of inheritance."
   ]
  },
  {
   "cell_type": "markdown",
   "id": "a95042f1-6243-4707-9dfb-baf38714ec83",
   "metadata": {},
   "source": [
    "Inheritance means class can inherit attributes and methods of another class. it is like child can have all the thing parents own. child inherit the properties of parents."
   ]
  },
  {
   "cell_type": "code",
   "execution_count": 27,
   "id": "61c3f2cb-3b5d-4606-bc0d-9706e9c6aa24",
   "metadata": {},
   "outputs": [],
   "source": [
    "# single inheritance\n",
    "class First():\n",
    "    def nothing(self):\n",
    "        print('1st Class')\n",
    "        \n",
    "class Second(First):\n",
    "    def something(self):\n",
    "        print('2nd Class')\n",
    "        \n",
    "obj = Second()\n"
   ]
  },
  {
   "cell_type": "code",
   "execution_count": 28,
   "id": "f6fd740d-bf0d-4dce-ae1d-a11e92fbce08",
   "metadata": {},
   "outputs": [
    {
     "name": "stdout",
     "output_type": "stream",
     "text": [
      "1st Class\n"
     ]
    }
   ],
   "source": [
    "obj.nothing()"
   ]
  },
  {
   "cell_type": "markdown",
   "id": "b07fd79f-962e-4d00-b004-1e66b0dad8b9",
   "metadata": {},
   "source": [
    "Multiple inheritance"
   ]
  },
  {
   "cell_type": "code",
   "execution_count": 29,
   "id": "b5f1b32c-3ab6-482b-af7f-d9f89880c9df",
   "metadata": {},
   "outputs": [],
   "source": [
    "class First():\n",
    "    def nothing(self):\n",
    "        print('1st Class')\n",
    "        \n",
    "class Second():\n",
    "    def something(self):\n",
    "        print('2nd Class')\n",
    "        \n",
    "class Third(First, Second):\n",
    "    def eveything():\n",
    "        print('3rd class')\n",
    "        \n"
   ]
  },
  {
   "cell_type": "code",
   "execution_count": 30,
   "id": "699ca7ca-d2c7-4883-8fe7-9a4b55facd05",
   "metadata": {},
   "outputs": [],
   "source": [
    "obj = Third()"
   ]
  },
  {
   "cell_type": "code",
   "execution_count": 35,
   "id": "cd7fdc20-31f6-46b8-a153-13f55ecc9e77",
   "metadata": {},
   "outputs": [
    {
     "name": "stdout",
     "output_type": "stream",
     "text": [
      "1st Class\n"
     ]
    }
   ],
   "source": [
    "obj.nothing() # access First class's method by creating Third's obj."
   ]
  },
  {
   "cell_type": "code",
   "execution_count": 38,
   "id": "a5d69a5c-77ec-41ee-bfcb-a2e7c25ff309",
   "metadata": {},
   "outputs": [
    {
     "name": "stdout",
     "output_type": "stream",
     "text": [
      "2nd Class\n"
     ]
    }
   ],
   "source": [
    "obj.something()"
   ]
  },
  {
   "cell_type": "markdown",
   "id": "279b4eca-cc32-46f9-b1af-75da1cc39eb4",
   "metadata": {
    "tags": []
   },
   "source": [
    "# Multilevel Inheritance"
   ]
  },
  {
   "cell_type": "code",
   "execution_count": 39,
   "id": "6f8b1a0b-fd48-4090-afed-26bbcc057053",
   "metadata": {},
   "outputs": [],
   "source": [
    "class First():\n",
    "    def nothing(self):\n",
    "        print('1st Class')\n",
    "        \n",
    "class Second(First):\n",
    "    def something(self):\n",
    "        print('2nd Class')\n",
    "        \n",
    "class Third(Second):\n",
    "    def eveything():\n",
    "        print('3rd class')"
   ]
  },
  {
   "cell_type": "code",
   "execution_count": 40,
   "id": "62a7f4ee-2c5e-426f-8e4e-562e03b64c57",
   "metadata": {},
   "outputs": [
    {
     "name": "stdout",
     "output_type": "stream",
     "text": [
      "1st Class\n"
     ]
    }
   ],
   "source": [
    "obj = Third()\n",
    "obj.nothing()"
   ]
  },
  {
   "cell_type": "code",
   "execution_count": null,
   "id": "eab3a9a4-69db-4584-8224-16b8e19b4492",
   "metadata": {},
   "outputs": [],
   "source": []
  }
 ],
 "metadata": {
  "kernelspec": {
   "display_name": "Python 3 (ipykernel)",
   "language": "python",
   "name": "python3"
  },
  "language_info": {
   "codemirror_mode": {
    "name": "ipython",
    "version": 3
   },
   "file_extension": ".py",
   "mimetype": "text/x-python",
   "name": "python",
   "nbconvert_exporter": "python",
   "pygments_lexer": "ipython3",
   "version": "3.10.8"
  }
 },
 "nbformat": 4,
 "nbformat_minor": 5
}
