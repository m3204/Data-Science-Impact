{
 "cells": [
  {
   "cell_type": "markdown",
   "id": "64505572-93c5-49bb-8f37-9683207bb8ba",
   "metadata": {},
   "source": [
    "Q1. How do you comment code in Python? What are the different types of comments?"
   ]
  },
  {
   "cell_type": "code",
   "execution_count": 8,
   "id": "e573c9aa-d03a-44ea-a96d-29e91f09c1b3",
   "metadata": {},
   "outputs": [
    {
     "data": {
      "text/plain": [
       "' second one is in the three quoted inverted comma.\\nand yeah, this type can be for the multi line comment.'"
      ]
     },
     "execution_count": 8,
     "metadata": {},
     "output_type": "execute_result"
    }
   ],
   "source": [
    "# there're two ways to comment : \n",
    "# one with putting hashtag \"#\" before any line. it's a single line comment.\n",
    "''' second one is in the three quoted inverted comma.\n",
    "and yeah, this type can be for the multi line comment.'''\n"
   ]
  },
  {
   "cell_type": "markdown",
   "id": "7e4b9a59-0f86-4800-8817-a1d401752993",
   "metadata": {},
   "source": [
    "Q2. What are variables in Python? How do you declare and assign values to variables?"
   ]
  },
  {
   "cell_type": "code",
   "execution_count": 7,
   "id": "955123d6-6da2-4dab-9a11-65c76bf899a4",
   "metadata": {},
   "outputs": [],
   "source": [
    "''' A variable is essentially a name that represents a memory location where a value is stored. \n",
    "These values can be of different types, such as numbers, strings, lists, or more complex data structures.'''\n",
    "\n",
    "# examples of variables\n",
    "var = 5\n",
    "var2 = 'String'\n",
    "var3 = 5.399359968\n",
    "var4 = [698, 'dgkdf', '9079uo56']"
   ]
  },
  {
   "cell_type": "markdown",
   "id": "4fa3e559-4c2e-42b5-917f-cc7426881628",
   "metadata": {},
   "source": [
    "Q3. How do you convert one data type to another in Python?"
   ]
  },
  {
   "cell_type": "code",
   "execution_count": 6,
   "id": "20a43f76-a8b9-4da4-b5ef-8b3b1d72316e",
   "metadata": {},
   "outputs": [
    {
     "data": {
      "text/plain": [
       "' and we can use built in functions like,\\nint()\\nfloat()\\nstr()\\nlist()\\ndict()\\nset()\\ntuple()\\n'"
      ]
     },
     "execution_count": 6,
     "metadata": {},
     "output_type": "execute_result"
    }
   ],
   "source": [
    "''' We can convert data types... for ex, int to float. if we add float to int then the final value becomes float.'''\n",
    "''' and we can use built in functions like,\n",
    "int()\n",
    "float()\n",
    "str()\n",
    "list()\n",
    "dict()\n",
    "set()\n",
    "tuple()\n",
    "'''"
   ]
  },
  {
   "cell_type": "markdown",
   "id": "38ab0ff6-159f-485d-8c0e-f8714eba8908",
   "metadata": {},
   "source": [
    "Q4. How do you write and execute a Python script from the command line?"
   ]
  },
  {
   "cell_type": "code",
   "execution_count": 5,
   "id": "63564b8e-34b1-4896-ae3c-ac0c22b26748",
   "metadata": {},
   "outputs": [
    {
     "data": {
      "text/plain": [
       "'\\nC:\\\\Users\\\\Dell>cd downloads\\n\\nC:\\\\Users\\\\Dell\\\\Downloads>python file_name.py\\n'"
      ]
     },
     "execution_count": 5,
     "metadata": {},
     "output_type": "execute_result"
    }
   ],
   "source": [
    "''' python file has .py extension. we can simply just create .py file in text editor and running it on command prompt.\n",
    "firstly locate file and then mention the interpreter following file name.'''\n",
    "\n",
    "# for ex \n",
    "\n",
    "'''\n",
    "C:\\\\Users\\\\Dell>cd downloads\n",
    "\n",
    "C:\\\\Users\\Dell\\\\Downloads>python file_name.py\n",
    "'''"
   ]
  },
  {
   "cell_type": "markdown",
   "id": "e6eb0954-84b0-48c9-bdba-3a6e6ec43cd0",
   "metadata": {},
   "source": [
    "Q5. Given a list my_list = [1, 2, 3, 4, 5], write the code to slice the list and obtain the sub-list [2, 3]."
   ]
  },
  {
   "cell_type": "code",
   "execution_count": 9,
   "id": "f55c00d1-c4e9-4264-a1af-1b7dbfde5d16",
   "metadata": {},
   "outputs": [
    {
     "data": {
      "text/plain": [
       "[2, 3]"
      ]
     },
     "execution_count": 9,
     "metadata": {},
     "output_type": "execute_result"
    }
   ],
   "source": [
    "my_list = [1, 2, 3, 4, 5]\n",
    "sub_list = my_list[1:3]\n",
    "sub_list"
   ]
  },
  {
   "cell_type": "markdown",
   "id": "1c75c830-97e4-447f-9e8f-7379a6ebb359",
   "metadata": {},
   "source": [
    "Q6. What is a complex number in mathematics, and how is it represented in Python?"
   ]
  },
  {
   "cell_type": "code",
   "execution_count": 11,
   "id": "d6438148-fcc9-4288-8377-d31784f58532",
   "metadata": {},
   "outputs": [
    {
     "data": {
      "text/plain": [
       "(2+3j)"
      ]
     },
     "execution_count": 11,
     "metadata": {},
     "output_type": "execute_result"
    }
   ],
   "source": [
    "# In mathematics we can write a complex number as a + bi, where a & b are real numbers and i is imaginary number.\n",
    "\n",
    "# write complex numbers in python\n",
    "\n",
    "complex = 2 + 3j   # 2 & 3 are real numbers and j is imaginary number.\n",
    "complex"
   ]
  },
  {
   "cell_type": "markdown",
   "id": "e68c2bd3-6748-4c86-98fb-5446dcb6f6a4",
   "metadata": {},
   "source": [
    "Q7. What is the correct way to declare a variable named age and assign the value 25 to it?"
   ]
  },
  {
   "cell_type": "code",
   "execution_count": 12,
   "id": "66bfe572-9601-4d3a-9d30-4d1c5a06d505",
   "metadata": {},
   "outputs": [],
   "source": [
    "age = 25"
   ]
  },
  {
   "cell_type": "markdown",
   "id": "a891f091-55ba-4dd9-9193-6ce186c35f8a",
   "metadata": {},
   "source": [
    "Q8. Declare a variable named price and assign the value 9.99 to it. What data type does this variable\n",
    "belong to?"
   ]
  },
  {
   "cell_type": "code",
   "execution_count": 13,
   "id": "4e611c2f-a0ba-4358-a001-8bed38e4857e",
   "metadata": {},
   "outputs": [
    {
     "data": {
      "text/plain": [
       "float"
      ]
     },
     "execution_count": 13,
     "metadata": {},
     "output_type": "execute_result"
    }
   ],
   "source": [
    "price = 9.99 # this belongs to float data types. we can check this by using type() method.\n",
    "type(price)"
   ]
  },
  {
   "cell_type": "markdown",
   "id": "a3a18b29-5d50-481c-babb-b066b8ed8854",
   "metadata": {},
   "source": [
    "Q9. Create a variable named name and assign your full name to it as a string. How would you print the\n",
    "value of this variable?"
   ]
  },
  {
   "cell_type": "code",
   "execution_count": 14,
   "id": "73f3294d-4b03-468f-9a03-37005c98ffb4",
   "metadata": {},
   "outputs": [
    {
     "name": "stdout",
     "output_type": "stream",
     "text": [
      "Marmik Rasadiya\n"
     ]
    },
    {
     "data": {
      "text/plain": [
       "'Marmik Rasadiya'"
      ]
     },
     "execution_count": 14,
     "metadata": {},
     "output_type": "execute_result"
    }
   ],
   "source": [
    "name = 'Marmik Rasadiya'\n",
    "print(name) # in jupyter you don't need to use print() function. you can just write variable name and the vale of variable will appear.\n",
    "name # like this."
   ]
  },
  {
   "cell_type": "markdown",
   "id": "7677fa76-c03e-41ec-8694-93b21f7ddf59",
   "metadata": {},
   "source": [
    "Q10. Given the string \"Hello, World!\", extract the substring \"World\"."
   ]
  },
  {
   "cell_type": "code",
   "execution_count": 20,
   "id": "21b4034b-0874-4ce6-92d9-02601d245f12",
   "metadata": {},
   "outputs": [
    {
     "data": {
      "text/plain": [
       "'World'"
      ]
     },
     "execution_count": 20,
     "metadata": {},
     "output_type": "execute_result"
    }
   ],
   "source": [
    "string = \"Hello, World!\"\n",
    "word = string.split(', ')[1].split('!')[0]\n",
    "word"
   ]
  },
  {
   "cell_type": "markdown",
   "id": "2d06478c-73ca-40a5-b1b8-945831036529",
   "metadata": {},
   "source": [
    "Q11. Create a variable named \"is_student\" and assign it a boolean value indicating whether you are\n",
    "currently a student or not."
   ]
  },
  {
   "cell_type": "code",
   "execution_count": 21,
   "id": "35f20d80-9d8e-4364-a27a-d5b270d104d3",
   "metadata": {},
   "outputs": [],
   "source": [
    "is_student = True"
   ]
  },
  {
   "cell_type": "code",
   "execution_count": null,
   "id": "dff3a1a3-f0fd-40ba-8da7-fa962a952561",
   "metadata": {},
   "outputs": [],
   "source": []
  },
  {
   "cell_type": "code",
   "execution_count": null,
   "id": "71141638-4eee-491e-b92e-ed3ed498bf25",
   "metadata": {},
   "outputs": [],
   "source": []
  },
  {
   "cell_type": "code",
   "execution_count": null,
   "id": "5cfbc7d1-c429-41fa-ac95-073ad6ac0561",
   "metadata": {},
   "outputs": [],
   "source": []
  },
  {
   "cell_type": "code",
   "execution_count": null,
   "id": "3c6e5d64-b8f6-49f1-800e-3ddf503644bc",
   "metadata": {},
   "outputs": [],
   "source": []
  }
 ],
 "metadata": {
  "kernelspec": {
   "display_name": "Python 3 (ipykernel)",
   "language": "python",
   "name": "python3"
  },
  "language_info": {
   "codemirror_mode": {
    "name": "ipython",
    "version": 3
   },
   "file_extension": ".py",
   "mimetype": "text/x-python",
   "name": "python",
   "nbconvert_exporter": "python",
   "pygments_lexer": "ipython3",
   "version": "3.10.8"
  }
 },
 "nbformat": 4,
 "nbformat_minor": 5
}
