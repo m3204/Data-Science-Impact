{
 "cells": [
  {
   "cell_type": "code",
   "execution_count": 1,
   "id": "1d92c31c-6742-43a9-8b83-752c05832b5e",
   "metadata": {},
   "outputs": [],
   "source": [
    "'''\n",
    "Q1. Create one variable containing following type of data:\n",
    "(i) string\n",
    "(ii) list\n",
    "(iii) float\n",
    "(iv) tuple\n",
    "'''\n",
    "\n",
    "# string \n",
    "name = 'Marmik' \n",
    "\n",
    "# List\n",
    "full_name = ['Marmik', 'Rasadiya']   \n",
    "  \n",
    "# float\n",
    "float_var = 0.0008  \n",
    "\n",
    "# float list\n",
    "float_var_list = [0.005, 1.0699, 5.026, 13587.125]\n",
    "\n",
    "# tuple\n",
    "name_tuple = ('Marmik', 7, 'Rasadiya')"
   ]
  },
  {
   "cell_type": "code",
   "execution_count": 2,
   "id": "9e110fe8-2ac9-451e-b740-4bbc31126d53",
   "metadata": {},
   "outputs": [
    {
     "data": {
      "text/plain": [
       "\"\\nAns . 2\\n\\nvar1 = ''  # string (empty)\\nvar2 = '[DS, ML, Python]'   # String\\nvar3 = ['DS', 'ML', 'Python'] # List\\nvar4 = 1   # Integer\\n\""
      ]
     },
     "execution_count": 2,
     "metadata": {},
     "output_type": "execute_result"
    }
   ],
   "source": [
    "'''\n",
    "Q2. Given are some following variables containing data:\n",
    "(i) var1 = ‘ ‘\n",
    "(ii) var2 = ‘[ DS , ML , Python]’\n",
    "(iii) var3 = [ ‘DS’ , ’ML’ , ‘Python’ ]\n",
    "(iv) var4 = 1.\n",
    "'''\n",
    "\n",
    "'''\n",
    "Ans . 2\n",
    "\n",
    "var1 = ''  # string (empty)\n",
    "var2 = '[DS, ML, Python]'   # String\n",
    "var3 = ['DS', 'ML', 'Python'] # List\n",
    "var4 = 1   # Integer\n",
    "'''"
   ]
  },
  {
   "cell_type": "code",
   "execution_count": 3,
   "id": "f0e8f174-4c37-48cc-9290-754192100627",
   "metadata": {},
   "outputs": [
    {
     "data": {
      "text/plain": [
       "'\\nAns.3\\n(i) --> Division operator\\n(ii) --> Mode operator \\n(iii) --> division but it gives only integer output.\\n(iv) --> power operator\\n'"
      ]
     },
     "execution_count": 3,
     "metadata": {},
     "output_type": "execute_result"
    }
   ],
   "source": [
    "'''\n",
    "Q3. Explain the use of the following operators using an example:\n",
    "(i) /\n",
    "(ii) %\n",
    "(iii) //\n",
    "(iv) **\n",
    "'''\n",
    "\n",
    "'''\n",
    "Ans.3\n",
    "(i) --> Division operator\n",
    "(ii) --> Mode operator \n",
    "(iii) --> division but it gives only integer output.\n",
    "(iv) --> power operator\n",
    "'''"
   ]
  },
  {
   "cell_type": "code",
   "execution_count": 4,
   "id": "45d404c5-56e1-464e-ae0b-700f9d45b421",
   "metadata": {},
   "outputs": [
    {
     "name": "stdout",
     "output_type": "stream",
     "text": [
      "Marmik <class 'str'>\n",
      "12 <class 'int'>\n",
      "19.5 <class 'float'>\n",
      "['String', 0.05] <class 'list'>\n",
      "('Tuple', 12) <class 'tuple'>\n",
      "{7: 'Seven'} <class 'dict'>\n",
      "{8, 6, 7} <class 'set'>\n",
      "String18 <class 'str'>\n",
      "True <class 'bool'>\n",
      "False <class 'bool'>\n",
      "None <class 'NoneType'>\n"
     ]
    }
   ],
   "source": [
    "'''\n",
    "Q4. Create a list of length 10 of your choice containing multiple types of data. Using for loop print the\n",
    "element and its data type.\n",
    "'''\n",
    "\n",
    "# Ans 4\n",
    "multi_data_type = ['Marmik', 12, 19.5, ['String', 0.05], ('Tuple', 12), {7 : 'Seven'}, {6, 7, 8}, 'String18', True, False, None]\n",
    "\n",
    "for data in multi_data_type:\n",
    "    print(data, type(data))"
   ]
  },
  {
   "cell_type": "code",
   "execution_count": 5,
   "id": "f9dad4e1-3e3d-42ce-bed9-d7705ea3493a",
   "metadata": {},
   "outputs": [
    {
     "name": "stdout",
     "output_type": "stream",
     "text": [
      "1\n"
     ]
    }
   ],
   "source": [
    "'''\n",
    "Q5. Using a while loop, verify if the number A is purely divisible by number B and if so then how many\n",
    "times it can be divisible.\n",
    "'''\n",
    "\n",
    "# Ans 5\n",
    "\n",
    "import random\n",
    "A = random.randint(2, 100000)\n",
    "B = 2\n",
    "i = 0\n",
    "while A % B == 0:\n",
    "    i += 1\n",
    "    A = A / B\n",
    "print(i)   "
   ]
  },
  {
   "cell_type": "code",
   "execution_count": 7,
   "id": "14b637d7-1d07-4abc-8c2f-2c7fe8060ddb",
   "metadata": {},
   "outputs": [
    {
     "data": {
      "text/plain": [
       "[24, 93, 12, 54, 33, 96, 0]"
      ]
     },
     "execution_count": 7,
     "metadata": {},
     "output_type": "execute_result"
    }
   ],
   "source": [
    "'''\n",
    "Q6. Create a list containing 25 int type data. Using for loop and if-else condition print if the element is\n",
    "divisible by 3 or not.\n",
    "'''\n",
    "\n",
    "# Ans 6\n",
    "import numpy as np\n",
    "int_list = np.random.choice(np.arange(100), size = 25, replace=False)\n",
    "\n",
    "div_3 = [i for i in int_list if i % 3 == 0]\n",
    "div_3"
   ]
  },
  {
   "cell_type": "code",
   "execution_count": 8,
   "id": "ac8f447e-cec7-4726-aae6-22581f5d9ab5",
   "metadata": {},
   "outputs": [
    {
     "name": "stdout",
     "output_type": "stream",
     "text": [
      "[6, 5, 7, 89, 34]\n",
      "[6, 5, 7, 56, 34]\n",
      "(3, 6, 4, 'nasskjf')\n",
      "'tuple' object does not support item assignment\n"
     ]
    }
   ],
   "source": [
    "\n",
    "'''\n",
    "Q7. What do you understand about mutable and immutable data types? Give examples for both showing\n",
    "this property.\n",
    "'''\n",
    "\n",
    "''' \n",
    "Ans . 7\n",
    "\n",
    "Mutable data types : mutable data types allows changes. \n",
    "for ex, we can change the items in list with it's index number'\n",
    "mutable = list, dict...\n",
    "'''\n",
    "lst = [6, 5, 7, 89, 34]\n",
    "print(lst)\n",
    " \n",
    "# change item\n",
    "lst[3] = 56\n",
    "print(lst)\n",
    "\n",
    "'''\n",
    "immutable data type : we can't change or mute the data. it'll be always the same. \n",
    "for ex tuple, set... \n",
    "'''\n",
    "\n",
    "tupl = (3, 6,4 , 'nasskjf')\n",
    "print(tupl)\n",
    "\n",
    "# try to change tupl\n",
    "try:\n",
    "    tupl[3] = 'fsgh'\n",
    "except Exception as e:\n",
    "    print(e)\n",
    "    \n",
    "# the error will arise \" 'tuple' object does not support item assignment \"."
   ]
  },
  {
   "cell_type": "code",
   "execution_count": null,
   "id": "98b463d3-e5e8-4c89-9635-adcf64c8397a",
   "metadata": {},
   "outputs": [],
   "source": []
  }
 ],
 "metadata": {
  "kernelspec": {
   "display_name": "Python 3 (ipykernel)",
   "language": "python",
   "name": "python3"
  },
  "language_info": {
   "codemirror_mode": {
    "name": "ipython",
    "version": 3
   },
   "file_extension": ".py",
   "mimetype": "text/x-python",
   "name": "python",
   "nbconvert_exporter": "python",
   "pygments_lexer": "ipython3",
   "version": "3.10.8"
  }
 },
 "nbformat": 4,
 "nbformat_minor": 5
}
