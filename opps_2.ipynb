{
 "cells": [
  {
   "cell_type": "markdown",
   "id": "254e039f-08e1-401b-9f60-468127fa3e9a",
   "metadata": {},
   "source": [
    "#### Q1. What is Abstraction in OOps? Explain with an example.\n",
    "\n"
   ]
  },
  {
   "cell_type": "markdown",
   "id": "d24b8061-af96-4b6c-bd3d-4c7a44026c60",
   "metadata": {
    "tags": []
   },
   "source": [
    "Abstraction is used to hide a unnecessary methods and attributes. it basically presents that \n",
    "##### \"what an class can do rather than how does it do.\"\""
   ]
  },
  {
   "cell_type": "markdown",
   "id": "b09e0e39-5614-4219-8c4b-a181c1f2a92c",
   "metadata": {},
   "source": [
    "### Q2. Differentiate between Abstraction and Encapsulation. Explain with an example."
   ]
  },
  {
   "cell_type": "markdown",
   "id": "67c579e4-ebfe-4a04-bc4e-2e7bbc26862d",
   "metadata": {},
   "source": [
    "Encapsulation : basically it is taking a control on what to show and what to hide and how much to give access.\n",
    "\n",
    "Abstraction : it is template for complex and private methods to simplfy it and hide unnecessary info."
   ]
  },
  {
   "cell_type": "code",
   "execution_count": 6,
   "id": "9e2d5f0b-1295-461a-bc94-36b0f55e639e",
   "metadata": {},
   "outputs": [
    {
     "data": {
      "text/plain": [
       "100"
      ]
     },
     "execution_count": 6,
     "metadata": {},
     "output_type": "execute_result"
    }
   ],
   "source": [
    "# Encapulation \n",
    "\n",
    "class First:\n",
    "                    def __init__(self, acc, balance):\n",
    "                        self.__acc_number = acc\n",
    "                        self.__balance = balance\n",
    "\n",
    "                    def deposit(self, amt):\n",
    "                        self.__balance += amt\n",
    "\n",
    "                    def get_balance(self): \n",
    "                        return self.__balance\n",
    "    \n",
    "    \n",
    "    \n",
    "    # we will not give access to contact number. \n",
    "    \n",
    "    \n",
    "obj = First(12329884, 100)\n",
    "obj.get_balance()"
   ]
  },
  {
   "cell_type": "code",
   "execution_count": 7,
   "id": "9de556d2-96a3-4819-878b-e851cee7a15e",
   "metadata": {},
   "outputs": [],
   "source": [
    "obj.deposit(10)"
   ]
  },
  {
   "cell_type": "code",
   "execution_count": 8,
   "id": "97240ac6-438d-43af-8196-61150425a2db",
   "metadata": {},
   "outputs": [
    {
     "data": {
      "text/plain": [
       "110"
      ]
     },
     "execution_count": 8,
     "metadata": {},
     "output_type": "execute_result"
    }
   ],
   "source": [
    "obj.get_balance()"
   ]
  },
  {
   "cell_type": "code",
   "execution_count": 12,
   "id": "50116fca-9ec5-47fd-b6e3-a23c18c23613",
   "metadata": {},
   "outputs": [],
   "source": [
    "# Abstraction \n",
    "from abc import ABC, abstractmethod\n",
    "class Acc(ABC):\n",
    "    def __init__(self, acc, balance):\n",
    "        self.acc_number = acc\n",
    "        self.balance = balance\n",
    "    @abstractmethod  \n",
    "    def deposit(self, amt):\n",
    "        return None\n",
    "    \n",
    "    @abstractmethod\n",
    "    def get_balance(self): \n",
    "        return None\n",
    "    \n",
    "    \n",
    "class BankAcc(Acc):\n",
    "    def deposit(self, amt):\n",
    "        self.balance += amt \n",
    "        \n",
    "    def get_balance(self):\n",
    "        return self.balance \n",
    "    \n",
    "obj = BankAcc(122355877, 1000)"
   ]
  },
  {
   "cell_type": "code",
   "execution_count": 13,
   "id": "ea93d2f3-e892-4d79-a239-96e3f6ad4d78",
   "metadata": {},
   "outputs": [],
   "source": [
    "obj.deposit(100)"
   ]
  },
  {
   "cell_type": "code",
   "execution_count": 14,
   "id": "f901ada2-cead-4601-93c1-f3b2e47d9bd2",
   "metadata": {},
   "outputs": [
    {
     "data": {
      "text/plain": [
       "1100"
      ]
     },
     "execution_count": 14,
     "metadata": {},
     "output_type": "execute_result"
    }
   ],
   "source": [
    "obj.get_balance()"
   ]
  },
  {
   "cell_type": "markdown",
   "id": "9221b580-12af-480f-bb18-3e250cb91c22",
   "metadata": {},
   "source": [
    "#### Q3. What is abc module in python? Why is it used?"
   ]
  },
  {
   "cell_type": "markdown",
   "id": "638da101-cc3a-4ac9-98bc-cefd964b340a",
   "metadata": {},
   "source": [
    "### abc \n",
    "abc class in python refers to Abstract Base Class. it porvides ABC class and Absractmethod decorator. this module used to create abstract class."
   ]
  },
  {
   "cell_type": "markdown",
   "id": "5838707f-9977-4478-bf20-0d57089b0fb5",
   "metadata": {},
   "source": [
    "##### Q4. How can we achieve data abstraction?"
   ]
  },
  {
   "cell_type": "markdown",
   "id": "3944962e-c5ff-4a7b-9f43-733b2e686bc5",
   "metadata": {},
   "source": [
    "We can create abstract class based on real world application of that class. use getter setter to access certain attributes and methods. imn python we can make attribute private by using __ in front of its name. or make it protected by using single underscore _.\n"
   ]
  },
  {
   "cell_type": "markdown",
   "id": "c247c919-ee9b-4e2f-af21-8b006ab756e0",
   "metadata": {},
   "source": [
    "### Q5. Can we create an instance of an abstract class? Explain your answer."
   ]
  },
  {
   "cell_type": "markdown",
   "id": "5b6a9da8-d6bd-42dd-a242-0151021295c9",
   "metadata": {},
   "source": [
    "No, we won't be able to accesa or create instance of abstract class. abstract only meant to be inherited from and it is something like template for other classes. even if we try to initiate to create obj of it. it will throw TypeError."
   ]
  },
  {
   "cell_type": "code",
   "execution_count": 15,
   "id": "43853e34-c09e-4f36-8230-6cb29b6b929f",
   "metadata": {},
   "outputs": [],
   "source": [
    "from abc import ABC, abstractmethod\n",
    "class Anything(ABC):\n",
    "    \n",
    "    @abstractmethod\n",
    "    def nothing():\n",
    "        pass"
   ]
  },
  {
   "cell_type": "code",
   "execution_count": 16,
   "id": "b01a2abc-e4ce-4389-a389-6cec53db6e5b",
   "metadata": {},
   "outputs": [
    {
     "ename": "TypeError",
     "evalue": "Can't instantiate abstract class Anything with abstract method nothing",
     "output_type": "error",
     "traceback": [
      "\u001b[0;31m---------------------------------------------------------------------------\u001b[0m",
      "\u001b[0;31mTypeError\u001b[0m                                 Traceback (most recent call last)",
      "Cell \u001b[0;32mIn[16], line 1\u001b[0m\n\u001b[0;32m----> 1\u001b[0m obj \u001b[38;5;241m=\u001b[39m \u001b[43mAnything\u001b[49m\u001b[43m(\u001b[49m\u001b[43m)\u001b[49m\n",
      "\u001b[0;31mTypeError\u001b[0m: Can't instantiate abstract class Anything with abstract method nothing"
     ]
    }
   ],
   "source": [
    "obj = Anything()"
   ]
  },
  {
   "cell_type": "code",
   "execution_count": null,
   "id": "da740e6b-5fbc-4a5a-957f-f531d7c4e2a9",
   "metadata": {},
   "outputs": [],
   "source": []
  }
 ],
 "metadata": {
  "kernelspec": {
   "display_name": "Python 3 (ipykernel)",
   "language": "python",
   "name": "python3"
  },
  "language_info": {
   "codemirror_mode": {
    "name": "ipython",
    "version": 3
   },
   "file_extension": ".py",
   "mimetype": "text/x-python",
   "name": "python",
   "nbconvert_exporter": "python",
   "pygments_lexer": "ipython3",
   "version": "3.10.8"
  }
 },
 "nbformat": 4,
 "nbformat_minor": 5
}
